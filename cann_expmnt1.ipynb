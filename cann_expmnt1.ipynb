{
 "cells": [
  {
   "cell_type": "code",
   "execution_count": 1,
   "metadata": {},
   "outputs": [],
   "source": [
    "from typing import List\n",
    "import numpy as np\n",
    "from math import sqrt\n",
    "from numpy import heaviside\n",
    "from functools import partial\n",
    "from scipy.integrate import solve_ivp"
   ]
  },
  {
   "cell_type": "code",
   "execution_count": 2,
   "metadata": {},
   "outputs": [],
   "source": [
    "%matplotlib inline\n",
    "#%matplotlib notebook\n",
    "#%matplotlib ipympl\n",
    "# matplotlib widget #inline #notebook\n",
    "import matplotlib.pyplot as plt\n",
    "import matplotlib.animation as animation\n",
    "#import matplotlib as mpl"
   ]
  },
  {
   "cell_type": "code",
   "execution_count": 3,
   "metadata": {},
   "outputs": [],
   "source": [
    "def vp(t, t0 = 1., t1 = 4.0) -> float:\n",
    "    # v+ velocity input signal\n",
    "    return heaviside(t - t0, 0.5) * heaviside(t1 - t, 0.5)"
   ]
  },
  {
   "cell_type": "code",
   "execution_count": 4,
   "metadata": {},
   "outputs": [],
   "source": [
    "def vm(t, t0 = 6., t1 = 8.) -> float:\n",
    "    # v- velocity input signal\n",
    "    return heaviside(t - t0, 0.5) * heaviside(t1 - t, 0.5)"
   ]
  },
  {
   "cell_type": "code",
   "execution_count": 5,
   "metadata": {},
   "outputs": [],
   "source": [
    "def w_p(t: float, y: List[float]) -> List[float]:\n",
    "    \"\"\"weight value ode\"\"\"\n",
    "    w_0 = y[0]\n",
    "    w_1 = y[1]\n",
    "\n",
    "    # w_0 decreases exponentially and w_1 filled accordingly\n",
    "    # The 2nd term is meant to excite dominant fires:\n",
    "    w_0p = - w_0 * vp(t) + w_1 * vm(t) + 10.0 * (w_0 - w_1) * (1. - w_0) * (1. - w_1) * w_1 * w_0 #+ 0.1 * (w_0 - 0.1 * w_1)\n",
    "    w_1p = w_0 * vp(t) - w_1 * vm(t) + 10.0 * (w_1 - w_0) * (1. - w_0) * (1. - w_1) * w_1 * w_0 # * (1. - w_1)\n",
    "\n",
    "    return [w_0p, w_1p]"
   ]
  },
  {
   "cell_type": "markdown",
   "metadata": {},
   "source": [
    "Solve for time = [0, 10], with initial values: w_0 = 1 , w_1 = 0 :"
   ]
  },
  {
   "cell_type": "code",
   "execution_count": 6,
   "metadata": {},
   "outputs": [
    {
     "name": "stderr",
     "output_type": "stream",
     "text": [
      "/var/folders/rn/678z32fn7lxgnhjt7mbjbyc400066l/T/ipykernel_30601/4043703309.py:8: RuntimeWarning: overflow encountered in double_scalars\n",
      "  w_0p = - w_0 * vp(t) + w_1 * vm(t) + 10.0 * (w_0 - w_1) * (1. - w_0) * (1. - w_1) * w_1 * w_0 #+ 0.1 * (w_0 - 0.1 * w_1)\n",
      "/var/folders/rn/678z32fn7lxgnhjt7mbjbyc400066l/T/ipykernel_30601/4043703309.py:9: RuntimeWarning: overflow encountered in double_scalars\n",
      "  w_1p = w_0 * vp(t) - w_1 * vm(t) + 10.0 * (w_1 - w_0) * (1. - w_0) * (1. - w_1) * w_1 * w_0 # * (1. - w_1)\n"
     ]
    }
   ],
   "source": [
    "sol = solve_ivp(\n",
    "    w_p,\n",
    "    [0, 10],\n",
    "    [1., 0.],\n",
    "    dense_output=True,\n",
    ")"
   ]
  },
  {
   "cell_type": "code",
   "execution_count": 7,
   "metadata": {},
   "outputs": [
    {
     "data": {
      "text/plain": [
       "[<matplotlib.lines.Line2D at 0x7ff0f1c094c0>,\n",
       " <matplotlib.lines.Line2D at 0x7ff0f1c09520>]"
      ]
     },
     "execution_count": 7,
     "metadata": {},
     "output_type": "execute_result"
    },
    {
     "data": {
      "image/png": "[encoded data removed]",
      "text/plain": [
       "<Figure size 432x288 with 1 Axes>"
      ]
     },
     "metadata": {
      "needs_background": "light"
     },
     "output_type": "display_data"
    }
   ],
   "source": [
    "plt.plot(sol.t, sol.y.T)"
   ]
  },
  {
   "cell_type": "code",
   "execution_count": 8,
   "metadata": {},
   "outputs": [
    {
     "data": {
      "text/plain": [
       "array([0., 0., 0., 0., 0., 0., 0., 0., 0., 0., 0., 1., 1., 1., 1., 1., 1.,\n",
       "       1., 0., 0., 0., 0., 0., 0., 0., 0., 0., 0., 0., 0., 0., 0., 0., 0.,\n",
       "       0., 0.])"
      ]
     },
     "execution_count": 8,
     "metadata": {},
     "output_type": "execute_result"
    }
   ],
   "source": [
    "vp(sol.t)"
   ]
  },
  {
   "cell_type": "code",
   "execution_count": 9,
   "metadata": {},
   "outputs": [],
   "source": [
    "def w2_p(t: float, y: List[float]) -> List[float]:\n",
    "    \"\"\"weight value ode\"\"\"\n",
    "    '''\n",
    "    w_0 = y[0]\n",
    "    w_1 = y[1]\n",
    "\n",
    "    # w_0 decreases exponentially and w_1 filled accordingly\n",
    "    # The 2nd term is meant to excite dominant fires:\n",
    "    w_0p = - w_0 * vp(t) + w_1 * vm(t) + 10.0 * (w_0 - w_1) * (1. - w_0) * (1. - w_1) * w_1 * w_0 #+ 0.1 * (w_0 - 0.1 * w_1)\n",
    "    w_1p = w_0 * vp(t) - w_1 * vm(t) + 10.0 * (w_1 - w_0) * (1. - w_0) * (1. - w_1) * w_1 * w_0 # * (1. - w_1)\n",
    "\n",
    "    w_damp = []\n",
    "    for y_0, y_1 in zip(y, y[1:] + [y[0]]):\n",
    "        w_damp.append( (y_0 - y_1) * (1. - y_0) * (1. - y_1) * y_0 * y_1 )\n",
    "        \n",
    "    w_damp_sum = np.array(w_damp).sum()\n",
    "    '''\n",
    "    \n",
    "    w = np.array(y)\n",
    "\n",
    "    wdiff = np.subtract.outer(w, w)\n",
    "    fac = w * (1. - w)\n",
    "    fac_mat = np.outer(fac, fac)\n",
    "    \n",
    "    # inhibition_mat_ij = (w_i - w_j) * w_i * (1 - w_i) * w_j * (1 - w_j):\n",
    "    inhibition_mat = np.multiply( wdiff,  fac_mat)\n",
    "    inhibition_term = inhibition_mat.sum(axis = 0)\n",
    "\n",
    "    # proximal velocity stimulus:\n",
    "    w0 = np.power(np.abs(np.array(y)), 1.)\n",
    "    w_1 = np.roll(w0, 1)\n",
    "    w1 = np.roll(w0, -1)\n",
    "\n",
    "    vel_term = -(vp(t) + vm(t)) * w0 + vm(t) * w_1 + vp(t) * w1\n",
    "\n",
    "    return 1. * vel_term - 20. * inhibition_term\n",
    "    '''\n",
    "    w_p = [0]*(len(y)+1)\n",
    "    for i, (y_0, y_1) in enumerate(zip(y, y[1:] + [y[0]])): #, w_damp):        \n",
    "        w_p[i] += - y_0 * vp(t) + y_1 * vm(t)\n",
    "        w_p[i+1] += y_0 * vp(t) - y_1 * vm(t)\n",
    "\n",
    "    return w_p[:-1]\n",
    "    '''"
   ]
  },
  {
   "cell_type": "code",
   "execution_count": 10,
   "metadata": {},
   "outputs": [
    {
     "data": {
      "text/plain": [
       "array([ 0.,  1., -1.,  0.,  0.,  0.,  0.])"
      ]
     },
     "execution_count": 10,
     "metadata": {},
     "output_type": "execute_result"
    }
   ],
   "source": [
    "w2_p(1.1, [0., 0., 1., 0., 0., 0., 0.])"
   ]
  },
  {
   "cell_type": "code",
   "execution_count": 11,
   "metadata": {},
   "outputs": [
    {
     "name": "stderr",
     "output_type": "stream",
     "text": [
      "/Users/salmonson1/anaconda3/lib/python3.8/site-packages/numpy/core/numeric.py:942: RuntimeWarning: overflow encountered in multiply\n",
      "  return multiply(a.ravel()[:, newaxis], b.ravel()[newaxis, :], out)\n",
      "/var/folders/rn/678z32fn7lxgnhjt7mbjbyc400066l/T/ipykernel_30601/999682474.py:26: RuntimeWarning: overflow encountered in multiply\n",
      "  inhibition_mat = np.multiply( wdiff,  fac_mat)\n",
      "/var/folders/rn/678z32fn7lxgnhjt7mbjbyc400066l/T/ipykernel_30601/999682474.py:26: RuntimeWarning: invalid value encountered in multiply\n",
      "  inhibition_mat = np.multiply( wdiff,  fac_mat)\n",
      "/Users/salmonson1/anaconda3/lib/python3.8/site-packages/numpy/core/_methods.py:48: RuntimeWarning: invalid value encountered in reduce\n",
      "  return umr_sum(a, axis, dtype, out, keepdims, initial, where)\n"
     ]
    }
   ],
   "source": [
    "sol2 = solve_ivp(\n",
    "    w2_p,\n",
    "    [0, 10],\n",
    "    [ 0., 0., 0., 0., 1., 0., 0., 0., 0.],\n",
    "    dense_output=True,\n",
    ")"
   ]
  },
  {
   "cell_type": "code",
   "execution_count": 12,
   "metadata": {},
   "outputs": [
    {
     "data": {
      "text/plain": [
       "[<matplotlib.lines.Line2D at 0x7ff0f1d51790>,\n",
       " <matplotlib.lines.Line2D at 0x7ff0f1d517f0>,\n",
       " <matplotlib.lines.Line2D at 0x7ff0f1d51910>,\n",
       " <matplotlib.lines.Line2D at 0x7ff0f1d51a30>,\n",
       " <matplotlib.lines.Line2D at 0x7ff0f1d51b50>,\n",
       " <matplotlib.lines.Line2D at 0x7ff0f1d51c70>,\n",
       " <matplotlib.lines.Line2D at 0x7ff0f1d51d90>,\n",
       " <matplotlib.lines.Line2D at 0x7ff0f1d51eb0>,\n",
       " <matplotlib.lines.Line2D at 0x7ff0f1d51fd0>]"
      ]
     },
     "execution_count": 12,
     "metadata": {},
     "output_type": "execute_result"
    },
    {
     "data": {
      "image/png": "[encoded data removed]",
      "text/plain": [
       "<Figure size 432x288 with 1 Axes>"
      ]
     },
     "metadata": {
      "needs_background": "light"
     },
     "output_type": "display_data"
    }
   ],
   "source": [
    "plt.plot(sol2.t, sol2.y.T)"
   ]
  },
  {
   "cell_type": "code",
   "execution_count": 13,
   "metadata": {},
   "outputs": [
    {
     "data": {
      "text/plain": [
       "(47, 9)"
      ]
     },
     "execution_count": 13,
     "metadata": {},
     "output_type": "execute_result"
    }
   ],
   "source": [
    "sol2.y.T.shape"
   ]
  },
  {
   "cell_type": "code",
   "execution_count": 14,
   "metadata": {},
   "outputs": [
    {
     "data": {
      "text/plain": [
       "array([3.23831652e-03, 1.91546910e-02, 1.10080829e-01, 4.87676742e-01,\n",
       "       3.79189336e-01, 2.83062564e-06, 1.60314801e-05, 9.42482403e-05,\n",
       "       5.46974449e-04])"
      ]
     },
     "execution_count": 14,
     "metadata": {},
     "output_type": "execute_result"
    }
   ],
   "source": [
    "sol2.y[:,20]"
   ]
  },
  {
   "cell_type": "code",
   "execution_count": 15,
   "metadata": {},
   "outputs": [
    {
     "data": {
      "text/plain": [
       "array([  0.,  40.,  80., 120., 160., 200., 240., 280., 320.])"
      ]
     },
     "execution_count": 15,
     "metadata": {},
     "output_type": "execute_result"
    }
   ],
   "source": [
    "np.linspace(0., 360., sol2.y.T.shape[-1], endpoint=False)"
   ]
  },
  {
   "cell_type": "code",
   "execution_count": 21,
   "metadata": {},
   "outputs": [
    {
     "data": {
      "image/png": "[encoded data removed]",
      "text/plain": [
       "<Figure size 432x288 with 1 Axes>"
      ]
     },
     "metadata": {},
     "output_type": "display_data"
    }
   ],
   "source": [
    "theta = np.linspace(0., 360., sol2.y.T.shape[-1], endpoint=False)\n",
    "r = np.ones_like(theta)\n",
    "\n",
    "fig = plt.figure()\n",
    "ax = fig.add_subplot(projection='polar')\n",
    "ax.set_theta_zero_location(\"N\") # theta = 0 is up\n",
    "ax.set_theta_direction(-1) # clockwise\n",
    "ax.grid(False)\n",
    "ax.set_xticks([])\n",
    "ax.set_yticks([])\n",
    "c = ax.scatter(np.radians(theta), r, c = sol2.y[:,20], edgecolors = \"r\", s = 500, cmap=\"magma\") #mpl.colormaps[\"magma\"]) #, c=colors, s=area, cmap='hsv', alpha=0.75) #s=area)"
   ]
  },
  {
   "cell_type": "code",
   "execution_count": null,
   "metadata": {},
   "outputs": [],
   "source": []
  }
 ],
 "metadata": {
  "kernelspec": {
   "display_name": "Python 3.8.13 ('base')",
   "language": "python",
   "name": "python3"
  },
  "language_info": {
   "codemirror_mode": {
    "name": "ipython",
    "version": 3
   },
   "file_extension": ".py",
   "mimetype": "text/x-python",
   "name": "python",
   "nbconvert_exporter": "python",
   "pygments_lexer": "ipython3",
   "version": "3.8.13"
  },
  "orig_nbformat": 4,
  "vscode": {
   "interpreter": {
    "hash": "a6c9a2c49996d0cd9bc7fad442ecae4493d5a1df7d8ad8f74719eb7429d500fd"
   }
  }
 },
 "nbformat": 4,
 "nbformat_minor": 2
}
